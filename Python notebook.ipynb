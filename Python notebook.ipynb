{
 "cells": [
  {
   "cell_type": "code",
   "execution_count": null,
   "metadata": {},
   "outputs": [],
   "source": [
    "a=input('Please enter your name\\n')\n",
    "print(a)"
   ]
  },
  {
   "cell_type": "code",
   "execution_count": null,
   "metadata": {},
   "outputs": [],
   "source": []
  },
  {
   "cell_type": "code",
   "execution_count": null,
   "metadata": {},
   "outputs": [],
   "source": [
    "first_name=input('Enter your first name:\\n')\n",
    "last_name=input('Enter your last_name:\\n')\n",
    "email=input('Enter your email ID:')\n",
    "\n",
    "print(first_name,last_name,email)"
   ]
  },
  {
   "cell_type": "code",
   "execution_count": null,
   "metadata": {},
   "outputs": [],
   "source": [
    "number_1= input('enter first number')\n",
    "number_2= input('enter second number')\n",
    "number_1=int(number_1)\n",
    "number_2=int(number_2)\n",
    "sum= number_1+number_2\n",
    "product= number_1*number_2\n",
    "print(sum)\n",
    "print(product)"
   ]
  },
  {
   "cell_type": "code",
   "execution_count": null,
   "metadata": {},
   "outputs": [],
   "source": [
    "\n",
    "\n",
    "name=input('enter your name\\n')\n",
    "start_city=input('enter your starting city\\n')\n",
    "destination=input('enter your destination\\n')\n",
    "transport=input('enter your mode of transport\\n')\n",
    "\n",
    "print(name,\"is travelling from\",start_city,\"to\",destination,\"by\",transport)\n"
   ]
  },
  {
   "cell_type": "code",
   "execution_count": null,
   "metadata": {},
   "outputs": [],
   "source": [
    "number_1= input('enter first number')\n",
    "number_2= input('enter second number')\n",
    "number_1=int(number_1)\n",
    "number_2=int(number_2)\n",
    "sum= number_1+number_2\n",
    "product= number_1*number_2\n",
    "print(sum)\n",
    "print(product)\n",
    "\n",
    "\n",
    "\n",
    "\n",
    "\n"
   ]
  },
  {
   "cell_type": "code",
   "execution_count": null,
   "metadata": {},
   "outputs": [],
   "source": [
    "length=int(input('enter length'))\n",
    "breadth=int(input('enter breadth'))\n",
    "height=int(input('enter height'))\n",
    "\n",
    "volume=length*breadth*height\n",
    "\n",
    "print(\"Volume of Cuboid is:\",volume)\n"
   ]
  },
  {
   "cell_type": "code",
   "execution_count": null,
   "metadata": {},
   "outputs": [],
   "source": [
    "1==true"
   ]
  },
  {
   "cell_type": "code",
   "execution_count": null,
   "metadata": {},
   "outputs": [],
   "source": [
    "\"abc\"<\"abd\"\n",
    "\"abcd\">\"abc\"\n",
    "2==2.0\n",
    "1==True\n",
    "0!=True"
   ]
  },
  {
   "cell_type": "code",
   "execution_count": null,
   "metadata": {},
   "outputs": [],
   "source": [
    "name = input(\"Enter your name\\n\")\n",
    "if name == \"Harry\" or name==\"Harry Potter\":\n",
    "    print(\"Welcome to Gryffindor, Mr.Potter!\")\n",
    "\n",
    "else:\n",
    "    print(\"Sorry, Hogwarts is full\")\n",
    "    \n"
   ]
  },
  {
   "cell_type": "code",
   "execution_count": null,
   "metadata": {},
   "outputs": [],
   "source": [
    "first=int(input('Enter first number'))\n",
    "second=int(input('Enter second number'))\n",
    "third=int(input('Enter third number'))\n",
    "\n",
    "if first>second and third:\n",
    "    largest = first\n",
    "\n",
    "    \n",
    "elif second> first and third:\n",
    "    largest = second\n",
    "    \n",
    "else:\n",
    "    largest = third\n",
    "\n",
    "print(\"Largest number is\", largest)"
   ]
  },
  {
   "cell_type": "code",
   "execution_count": null,
   "metadata": {},
   "outputs": [],
   "source": [
    "angle_1=int(input('Enter first angle:'))\n",
    "angle_2=int(input('Enter second angle:'))\n",
    "angle_3=int(input('Enter third angle:'))\n",
    "\n",
    "if  (angle_1>0 and angle_2>0 and angle_3>0) and (angle_1+angle_2+angle_3 ==180):\n",
    "    print('Angles are valid')\n",
    "else:\n",
    "    print('Angles are not valid')\n",
    "\n",
    "if angle_1<90 and angle_2<90 and angle_3<90:\n",
    "     print('Triangle is acute')\n",
    "\n",
    "if angle_1>90 or angle_2>90 or angle_3>90:\n",
    "     print('Triangle is obtuse')\n",
    "if angle_1==90 or angle_2==90 or angle_3==90:\n",
    "    print('Triangle is right angle')\n"
   ]
  },
  {
   "cell_type": "code",
   "execution_count": null,
   "metadata": {},
   "outputs": [],
   "source": [
    "a= int(input('Enter first value'))\n",
    "b= int(input('Enter second value'))\n",
    "c= int(input('Enter third value'))\n",
    "\n",
    "if b*b-4*a*c==0:\n",
    "    print('Quadratic equation has one real solution')\n",
    "if b*b-4*a*c>0:\n",
    "    print('Quadratic equation has two real solutions')\n",
    "if b*b-4*a*c<0:\n",
    "    print('Quadratic equation has two complex solutions')"
   ]
  },
  {
   "cell_type": "code",
   "execution_count": null,
   "metadata": {},
   "outputs": [],
   "source": [
    "a=\"dbuqwcdilasnd2i8343ü2jfnecadupj948üjhdawbc748h39h993898edwouejioiefj0f3294u8j4o2je0qjw80hjf08heaihe8rhf8q4h9hiusnkjavphhsupncreucnrpuihfuibvruiruirruuuuuuuiiiiiiiiiiiiiiicsirraip\"\n",
    "print(len(a))\n",
    "\n"
   ]
  },
  {
   "cell_type": "markdown",
   "metadata": {},
   "source": [
    "The above program is for finding length of the given string\n"
   ]
  },
  {
   "cell_type": "code",
   "execution_count": null,
   "metadata": {},
   "outputs": [],
   "source": [
    "list=[1,2,2,5,8,9,6,3,4]\n",
    "list.reverse()\n",
    "print(list)"
   ]
  },
  {
   "cell_type": "code",
   "execution_count": null,
   "metadata": {},
   "outputs": [],
   "source": [
    "9//4\n"
   ]
  },
  {
   "cell_type": "code",
   "execution_count": null,
   "metadata": {},
   "outputs": [],
   "source": [
    "not(100<99)"
   ]
  },
  {
   "cell_type": "code",
   "execution_count": null,
   "metadata": {},
   "outputs": [],
   "source": [
    "17>10"
   ]
  },
  {
   "cell_type": "code",
   "execution_count": null,
   "metadata": {},
   "outputs": [],
   "source": [
    "(25>100) and (25<100)"
   ]
  },
  {
   "cell_type": "code",
   "execution_count": null,
   "metadata": {},
   "outputs": [],
   "source": [
    "25==\"25\""
   ]
  },
  {
   "cell_type": "code",
   "execution_count": null,
   "metadata": {},
   "outputs": [],
   "source": [
    "numbers=list(range(0,200,25))\n",
    "print(numbers)"
   ]
  },
  {
   "cell_type": "code",
   "execution_count": null,
   "metadata": {},
   "outputs": [],
   "source": [
    "for numbers in range(200):\n",
    "    if numbers== 50:\n",
    "        break\n",
    "    print(numbers)\n"
   ]
  },
  {
   "cell_type": "code",
   "execution_count": null,
   "metadata": {},
   "outputs": [],
   "source": []
  },
  {
   "cell_type": "code",
   "execution_count": null,
   "metadata": {},
   "outputs": [],
   "source": [
    "for numbers in range(0,200):\n",
    "    continue\n",
    "    if numbers==150:\n",
    "        break\n",
    "    if numbers==200:\n",
    "        break\n",
    "    print(numbers)\n",
    "\n"
   ]
  },
  {
   "cell_type": "code",
   "execution_count": null,
   "metadata": {},
   "outputs": [],
   "source": [
    "def my_module ():\n",
    "    print(\"my_module\")\n",
    "    \n"
   ]
  },
  {
   "cell_type": "code",
   "execution_count": null,
   "metadata": {},
   "outputs": [],
   "source": [
    "import my_module\n",
    "\n"
   ]
  },
  {
   "cell_type": "code",
   "execution_count": null,
   "metadata": {},
   "outputs": [],
   "source": [
    "def meinmodul():"
   ]
  },
  {
   "cell_type": "code",
   "execution_count": null,
   "metadata": {},
   "outputs": [],
   "source": [
    "def meinmodul():\n",
    "    print(\"Das ist mein modul\")\n",
    "    "
   ]
  },
  {
   "cell_type": "code",
   "execution_count": null,
   "metadata": {},
   "outputs": [],
   "source": [
    "import meinmodul"
   ]
  },
  {
   "cell_type": "code",
   "execution_count": null,
   "metadata": {},
   "outputs": [],
   "source": [
    "a= [1,2,3,4]\n",
    "b= [4,5,8,9]\n",
    "c= 3 in a\n",
    "print(c)"
   ]
  },
  {
   "cell_type": "code",
   "execution_count": null,
   "metadata": {},
   "outputs": [],
   "source": [
    "list=[1,4,5,8,9,6,3,2]\n",
    "list[5]=10\n",
    "print(list)"
   ]
  },
  {
   "cell_type": "code",
   "execution_count": null,
   "metadata": {},
   "outputs": [],
   "source": [
    "name='SaiKamal'\n",
    "print(name [2])\n",
    "print(name [3])"
   ]
  },
  {
   "cell_type": "code",
   "execution_count": null,
   "metadata": {},
   "outputs": [],
   "source": [
    "star_wars_movies = [[\"The Phantom Menace\", \"Attack of the Clones\", \"Revenge of the Sith\"],  [\"A New Hope\", \"The Empire Strikes Back\", \"Return of the Jedi\"],   [\"The Force Awakens\", \"The Last Jedi\", \"The Rise of Skywalker\"]]\n",
    "\n",
    "trilogy = input('Enter number of the trilogy\\n')\n",
    "print(star_wars_movies [0] or [1] or [2])\n",
    "\n",
    "film = input('Enter of film\\n')\n",
    "print(star_wars_movies [0][-1] or [0][-2] or [0][-3] or [1][-1] or [1][-2] or [1][-3] or [2][-1] or [2][-2] or [2][-3])"
   ]
  },
  {
   "cell_type": "code",
   "execution_count": null,
   "metadata": {},
   "outputs": [],
   "source": [
    "star_wars_movies = [\n",
    "    [\"The Phantom Menace\", \"Attack of the Clones\", \"Revenge of the Sith\"],  \n",
    "    [\"A New Hope\", \"The Empire Strikes Back\", \"Return of the Jedi\"],   \n",
    "    [\"The Force Awakens\", \"The Last Jedi\", \"The Rise of Skywalker\"]\n",
    "]\n",
    "\n",
    "try:\n",
    "    # Take input for trilogy\n",
    "    trilogy = int(input('Enter number of the trilogy\\n'))-1\n",
    "    # Check weather the index is 0 to 2 corresponding 1 - 3 selection\n",
    "    assert trilogy>=0 and trilogy <=2\n",
    "    print(star_wars_movies[trilogy])\n",
    "\n",
    "    # Take input for film\n",
    "    film = int(input('Enter of film\\n')) - 1\n",
    "    # Check weather the index is 0 to 2 corresponding 1 - 3 selection\n",
    "    assert film >=0 and film <=2\n",
    "    print(star_wars_movies[trilogy][film])\n",
    "    \n",
    "except:\n",
    "    print(\"Selected option not found in the list\")\n",
    "\n"
   ]
  },
  {
   "cell_type": "code",
   "execution_count": null,
   "metadata": {},
   "outputs": [],
   "source": [
    "list_stocks = [[\"SAP\", 106, -3.0], [\"AAPL\", 165, 1.25], [\"TSLA\", 860, 54.2], [\"ORCL\", 76, -0.25], [\"ZM\", 114, 6.2]]\n",
    "sell_stocks = (list_stocks, [2][-3] and [4][-3] and [1][-3])\n",
    "print(sell_stocks)"
   ]
  },
  {
   "cell_type": "code",
   "execution_count": null,
   "metadata": {},
   "outputs": [],
   "source": [
    "for number in range(10, 20) :\n",
    "    print(number)"
   ]
  },
  {
   "cell_type": "code",
   "execution_count": null,
   "metadata": {},
   "outputs": [],
   "source": [
    "for value in range(1,10):\n",
    "    print(value)"
   ]
  },
  {
   "cell_type": "code",
   "execution_count": null,
   "metadata": {},
   "outputs": [],
   "source": [
    "start = int(input(\"Enter your starting number\"))\n",
    "to = int(input(\"Enter your last number\"))\n",
    "increment = int(input(\"Enter your step size\"))\n",
    "\n",
    "for i in range(start ,to, increment) :\n",
    "    print(i)"
   ]
  },
  {
   "cell_type": "code",
   "execution_count": null,
   "metadata": {},
   "outputs": [],
   "source": [
    "list=[1,5,4,8,9,10,11,19]\n",
    "list_1=[1,2]\n",
    "print(len(list))\n",
    "print(min(list))\n",
    "print(max(list_1))\n",
    "print(list+list_1)\n",
    "\n",
    "i=int(input('Enter the value'))\n",
    "if i in list and list_1:\n",
    "    print('The entered number is available')\n",
    "else:\n",
    "    print('Entered number is not available')"
   ]
  },
  {
   "cell_type": "code",
   "execution_count": null,
   "metadata": {},
   "outputs": [],
   "source": [
    "for i in range (1,100):\n",
    "    print('i')"
   ]
  },
  {
   "cell_type": "code",
   "execution_count": null,
   "metadata": {},
   "outputs": [],
   "source": [
    "for i in range (1,100):\n",
    "    \n",
    "    if i % 3 == 0 and i % 5 == 0 :\n",
    "            print(\"FizzBuzz\")\n",
    "    if i % 3 == 0:\n",
    "        print(\"Fizz\")\n",
    "    \n",
    "    if i % 5 == 0:\n",
    "        print(\"Buzz\")\n",
    "    \n",
    "    else :\n",
    "        print(i)\n",
    "        "
   ]
  },
  {
   "cell_type": "code",
   "execution_count": null,
   "metadata": {},
   "outputs": [],
   "source": [
    "initial_stock = int(input(\"Enter initial stock level value\"))\n"
   ]
  },
  {
   "cell_type": "code",
   "execution_count": null,
   "metadata": {},
   "outputs": [],
   "source": [
    "stocks = [[\"SAP\", 106, -3.0], [\"AAPL\", 165, 1.25], [\"TSLA\", 860, 54.2], [\"ORCL\", 76, -0.25], [\"ZM\", 114, 6.2]] \n",
    "\n",
    "sell=0\n",
    "\n",
    "for value in stocks:\n",
    "    sell.append(value(stocks)>=5)\n",
    "    print(\"List of stock symbols are\",sell)"
   ]
  },
  {
   "cell_type": "code",
   "execution_count": null,
   "metadata": {},
   "outputs": [],
   "source": [
    "stocks = [[\"SAP\", 106, -3.0], [\"AAPL\", 165, 1.25], [\"TSLA\", 860, 54.2], [\"ORCL\", 76, -0.25], [\"ZM\", 114, 6.2]] "
   ]
  },
  {
   "cell_type": "code",
   "execution_count": null,
   "metadata": {},
   "outputs": [],
   "source": [
    "stocks"
   ]
  },
  {
   "cell_type": "code",
   "execution_count": null,
   "metadata": {},
   "outputs": [],
   "source": [
    "for stock in stocks:\n",
    "    if stock[2] > 5:\n",
    "        print(stock[0])"
   ]
  },
  {
   "cell_type": "code",
   "execution_count": null,
   "metadata": {},
   "outputs": [],
   "source": [
    "numbers=list(range(0,200,25))\n",
    "print(numbers)\n"
   ]
  },
  {
   "cell_type": "code",
   "execution_count": null,
   "metadata": {},
   "outputs": [],
   "source": [
    "for numbers in range(200):\n",
    "    if numbers== 50:\n",
    "        break\n",
    "    print(numbers)"
   ]
  },
  {
   "cell_type": "code",
   "execution_count": null,
   "metadata": {},
   "outputs": [],
   "source": [
    "for numbers in range(200):\n",
    "    if numbers==150:\n",
    "        break\n",
    "    if numbers==200:\n",
    "        break\n",
    "    print(numbers)"
   ]
  },
  {
   "cell_type": "code",
   "execution_count": null,
   "metadata": {},
   "outputs": [],
   "source": [
    "def mymodule():\n",
    "    print(\"mymodule\")"
   ]
  },
  {
   "cell_type": "code",
   "execution_count": null,
   "metadata": {},
   "outputs": [],
   "source": [
    "def double(d):\n",
    "    return d*2\n",
    "\n",
    "d = double(10)\n",
    "print(d)\n",
    "print(double(\"Hello Sai Kamal\\n\"))"
   ]
  },
  {
   "cell_type": "code",
   "execution_count": null,
   "metadata": {},
   "outputs": [],
   "source": [
    "print?\n"
   ]
  },
  {
   "cell_type": "code",
   "execution_count": null,
   "metadata": {},
   "outputs": [],
   "source": [
    "def best_quote():\n",
    "    return 42\n",
    "\n",
    "value = 42\n",
    "print(\"Never give up\",value)"
   ]
  },
  {
   "cell_type": "code",
   "execution_count": null,
   "metadata": {},
   "outputs": [],
   "source": [
    "def is_kamal_a_good_boy():\n",
    "    return True or False\n",
    "\n",
    "if is_kamal_a_good_boy:\n",
    "    print(\"of course\")\n",
    "else:\n",
    "    print(\"of course not\")"
   ]
  },
  {
   "cell_type": "code",
   "execution_count": 9,
   "metadata": {},
   "outputs": [
    {
     "name": "stdout",
     "output_type": "stream",
     "text": [
      "Enter your name\n",
      "Sai\n",
      "Enter your first name\n",
      "Kamal\n",
      "Enter student ID\n",
      "419361\n",
      "('Sai', 'Kamal', 419361)\n"
     ]
    }
   ],
   "source": [
    "def get_student_data():\n",
    "    name=str(input(\"Enter your name\\n\"))\n",
    "    first_name=str(input(\"Enter your first name\\n\"))\n",
    "    value=int(input(\"Enter student ID\\n\"))\n",
    "    \n",
    "    student_details = list()\n",
    "    student_details.append(name)\n",
    "    student_details.append(first_name)\n",
    "    student_details.append(value)\n",
    "\n",
    "    return tuple(student_details)\n",
    "\n",
    "student_1 = get_student_data()\n",
    "\n",
    "print(student_1)"
   ]
  },
  {
   "cell_type": "code",
   "execution_count": 24,
   "metadata": {},
   "outputs": [
    {
     "name": "stdout",
     "output_type": "stream",
     "text": [
      "enter your valuelol\n",
      "True\n"
     ]
    }
   ],
   "source": [
    "# PYTHON PROGRAM FOR CHECKING IF A VALUE IS PALINDROME OR NOT\n",
    "\n",
    "def is_palindrome(s):\n",
    "    s = s.lower()\n",
    "    s = s.upper()\n",
    "    s = input(\"enter your value\")\n",
    "    \n",
    "    if s == s [::-1]:\n",
    "        return True\n",
    "    else:\n",
    "        return False\n",
    "print(is_palindrome(\"s\"))"
   ]
  },
  {
   "cell_type": "code",
   "execution_count": 14,
   "metadata": {},
   "outputs": [
    {
     "name": "stdout",
     "output_type": "stream",
     "text": [
      "Enter a number45\n",
      "No, its not a palindrome\n"
     ]
    }
   ],
   "source": [
    "num = input(\"Enter a number\")\n",
    "if num == num[::-1]:\n",
    "\tprint(\"Yes its a palindrome\")\n",
    "else:\n",
    "\tprint(\"No, its not a palindrome\")\n"
   ]
  },
  {
   "cell_type": "code",
   "execution_count": null,
   "metadata": {},
   "outputs": [],
   "source": []
  },
  {
   "cell_type": "code",
   "execution_count": null,
   "metadata": {},
   "outputs": [],
   "source": []
  }
 ],
 "metadata": {
  "kernelspec": {
   "display_name": "Python 3",
   "language": "python",
   "name": "python3"
  },
  "language_info": {
   "codemirror_mode": {
    "name": "ipython",
    "version": 3
   },
   "file_extension": ".py",
   "mimetype": "text/x-python",
   "name": "python",
   "nbconvert_exporter": "python",
   "pygments_lexer": "ipython3",
   "version": "3.8.3"
  }
 },
 "nbformat": 4,
 "nbformat_minor": 4
}
